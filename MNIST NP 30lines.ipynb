{
 "cells": [
  {
   "cell_type": "code",
   "execution_count": 2,
   "metadata": {},
   "outputs": [
    {
     "ename": "ImportError",
     "evalue": "No module named 'mnist'",
     "output_type": "error",
     "traceback": [
      "\u001b[1;31m---------------------------------------------------------------------------\u001b[0m",
      "\u001b[1;31mImportError\u001b[0m                               Traceback (most recent call last)",
      "\u001b[1;32m<ipython-input-2-0a6cbc0328f6>\u001b[0m in \u001b[0;36m<module>\u001b[1;34m()\u001b[0m\n\u001b[0;32m      1\u001b[0m \u001b[1;32mimport\u001b[0m \u001b[0mnumpy\u001b[0m \u001b[1;32mas\u001b[0m \u001b[0mnp\u001b[0m\u001b[1;33m\u001b[0m\u001b[0m\n\u001b[1;32m----> 2\u001b[1;33m \u001b[1;32mimport\u001b[0m \u001b[0mmnist\u001b[0m\u001b[1;33m\u001b[0m\u001b[0m\n\u001b[0m\u001b[0;32m      3\u001b[0m \u001b[1;33m\u001b[0m\u001b[0m\n\u001b[0;32m      4\u001b[0m \u001b[1;32mdef\u001b[0m \u001b[0mfeed_forward\u001b[0m\u001b[1;33m(\u001b[0m\u001b[0mX\u001b[0m\u001b[1;33m,\u001b[0m \u001b[0mweights\u001b[0m\u001b[1;33m)\u001b[0m\u001b[1;33m:\u001b[0m\u001b[1;33m\u001b[0m\u001b[0m\n\u001b[0;32m      5\u001b[0m     \u001b[0ma\u001b[0m \u001b[1;33m=\u001b[0m \u001b[1;33m[\u001b[0m\u001b[0mX\u001b[0m\u001b[1;33m]\u001b[0m\u001b[1;33m\u001b[0m\u001b[0m\n",
      "\u001b[1;31mImportError\u001b[0m: No module named 'mnist'"
     ]
    }
   ],
   "source": [
    "import numpy as np\n",
    "import mnist\n",
    "\n",
    "def feed_forward(X, weights):\n",
    "    a = [X]\n",
    "    for w in weights:\n",
    "        a.append(np.maximum(a[-1].dot(w),0))\n",
    "    return a\n",
    "\n",
    "def grads(X, Y, weights):\n",
    "    grads = np.empty_like(weights)\n",
    "    a = feed_forward(X, weights)\n",
    "    delta = a[-1] - Y\n",
    "    grads[-1] = a[-2].T.dot(delta)\n",
    "    for i in xrange(len(a)-2, 0, -1):\n",
    "        delta = (a[i] > 0) * delta.dot(weights[i].T)\n",
    "        grads[i-1] = a[i-1].T.dot(delta)\n",
    "    return grads / len(X)\n",
    "\n",
    "trX, trY, teX, teY = mnist.load_data()\n",
    "weights = [np.random.randn(*w) * 0.1 for w in [(784, 100), (100, 10)]]\n",
    "num_epochs, batch_size, learn_rate = 30, 20, 0.1\n",
    "\n",
    "for i in xrange(num_epochs):\n",
    "    for j in xrange(0, len(trX), batch_size):\n",
    "        X, Y = trX[j:j+batch_size], trY[j:j+batch_size]\n",
    "        weights -= learn_rate * grads(X, Y, weights)\n",
    "    prediction = np.argmax(feed_forward(teX, weights)[-1], axis=1)\n",
    "    print (i, np.mean(prediction == np.argmax(teY, axis=1)))"
   ]
  },
  {
   "cell_type": "code",
   "execution_count": null,
   "metadata": {},
   "outputs": [],
   "source": []
  }
 ],
 "metadata": {
  "kernelspec": {
   "display_name": "Python 3",
   "language": "python",
   "name": "python3"
  },
  "language_info": {
   "codemirror_mode": {
    "name": "ipython",
    "version": 3
   },
   "file_extension": ".py",
   "mimetype": "text/x-python",
   "name": "python",
   "nbconvert_exporter": "python",
   "pygments_lexer": "ipython3",
   "version": "3.5.2"
  }
 },
 "nbformat": 4,
 "nbformat_minor": 2
}
